{
 "cells": [
  {
   "cell_type": "markdown",
   "id": "79a44576",
   "metadata": {},
   "source": [
    "To choose the **right dataset** for your task, let’s **align the dataset options with your objectives**:\n",
    "\n",
    "### Task Summary\n",
    "\n",
    "You need to build a model that:\n",
    "\n",
    "* **Predicts product category** given a product's **name and brand**.\n",
    "* The dataset should ideally include:\n",
    "\n",
    "  * `product_name` (or title)\n",
    "  * `brand`\n",
    "  * `category` (label)\n",
    "\n",
    "We’re expected to focus on **data analysis, modeling, training & evaluation**, so having **clean and structured data with appropriate labels** is crucial."
   ]
  },
  {
   "cell_type": "markdown",
   "id": "bb1332bc",
   "metadata": {},
   "source": [
    "## Dataset Analysis\n"
   ]
  },
  {
   "cell_type": "markdown",
   "id": "dbbf4d1a",
   "metadata": {},
   "source": [
    "Let's import HuggingFace, Kaggle and Pandas utilities:"
   ]
  },
  {
   "cell_type": "code",
   "execution_count": null,
   "id": "af0be553",
   "metadata": {},
   "outputs": [],
   "source": [
    "! pip install datasets kagglehub pandas"
   ]
  },
  {
   "cell_type": "code",
   "execution_count": 1,
   "id": "59754c37",
   "metadata": {},
   "outputs": [
    {
     "name": "stderr",
     "output_type": "stream",
     "text": [
      "c:\\Users\\franc\\Projects\\smart-product-categorization-engine\\.venv\\Lib\\site-packages\\tqdm\\auto.py:21: TqdmWarning: IProgress not found. Please update jupyter and ipywidgets. See https://ipywidgets.readthedocs.io/en/stable/user_install.html\n",
      "  from .autonotebook import tqdm as notebook_tqdm\n"
     ]
    }
   ],
   "source": [
    "from datasets import load_dataset\n",
    "import kagglehub\n",
    "\n",
    "import pandas as pd"
   ]
  },
  {
   "cell_type": "markdown",
   "id": "754db309",
   "metadata": {},
   "source": [
    "\n",
    "### 1. [Amazon-Reviews-2023 (HuggingFace / McAuley Lab)](https://huggingface.co/datasets/McAuley-Lab/Amazon-Reviews-2023)"
   ]
  },
  {
   "cell_type": "code",
   "execution_count": 35,
   "id": "63e40e99",
   "metadata": {},
   "outputs": [],
   "source": [
    "amazon_review_dataset = load_dataset(\"McAuley-Lab/Amazon-Reviews-2023\", \"raw_meta_All_Beauty\", split=\"full\", trust_remote_code=True) # In this POC we analyze only \"beauty\" products. Every dataset contains the same features"
   ]
  },
  {
   "cell_type": "code",
   "execution_count": 16,
   "id": "d8dac769",
   "metadata": {},
   "outputs": [
    {
     "data": {
      "text/plain": [
       "Index(['main_category', 'title', 'average_rating', 'rating_number', 'features',\n",
       "       'description', 'price', 'images', 'videos', 'store', 'categories',\n",
       "       'details', 'parent_asin', 'bought_together', 'subtitle', 'author'],\n",
       "      dtype='object')"
      ]
     },
     "execution_count": 16,
     "metadata": {},
     "output_type": "execute_result"
    }
   ],
   "source": [
    "amazon_review_df = amazon_review_dataset.to_pandas()\n",
    "amazon_review_df.columns"
   ]
  },
  {
   "cell_type": "code",
   "execution_count": 17,
   "id": "e6ee6bfa",
   "metadata": {},
   "outputs": [
    {
     "name": "stdout",
     "output_type": "stream",
     "text": [
      "<class 'pandas.core.frame.DataFrame'>\n",
      "RangeIndex: 112590 entries, 0 to 112589\n",
      "Data columns (total 16 columns):\n",
      " #   Column           Non-Null Count   Dtype  \n",
      "---  ------           --------------   -----  \n",
      " 0   main_category    112590 non-null  object \n",
      " 1   title            112590 non-null  object \n",
      " 2   average_rating   112590 non-null  float64\n",
      " 3   rating_number    112590 non-null  int64  \n",
      " 4   features         112590 non-null  object \n",
      " 5   description      112590 non-null  object \n",
      " 6   price            112590 non-null  object \n",
      " 7   images           112590 non-null  object \n",
      " 8   videos           112590 non-null  object \n",
      " 9   store            101259 non-null  object \n",
      " 10  categories       112590 non-null  object \n",
      " 11  details          112590 non-null  object \n",
      " 12  parent_asin      112590 non-null  object \n",
      " 13  bought_together  0 non-null       object \n",
      " 14  subtitle         0 non-null       object \n",
      " 15  author           0 non-null       object \n",
      "dtypes: float64(1), int64(1), object(14)\n",
      "memory usage: 13.7+ MB\n"
     ]
    }
   ],
   "source": [
    "amazon_review_df.info()"
   ]
  },
  {
   "cell_type": "markdown",
   "id": "0691364e",
   "metadata": {},
   "source": [
    "The dataset contains 112,590 rows and 16 columns, providing a substantial amount of product data for analysis and modeling."
   ]
  },
  {
   "cell_type": "code",
   "execution_count": 18,
   "id": "21a0efb6",
   "metadata": {},
   "outputs": [
    {
     "data": {
      "text/plain": [
       "np.float64(0.0)"
      ]
     },
     "execution_count": 18,
     "metadata": {},
     "output_type": "execute_result"
    }
   ],
   "source": [
    "amazon_review_df['categories'].isna().mean().round(3)"
   ]
  },
  {
   "cell_type": "markdown",
   "id": "11929e12",
   "metadata": {},
   "source": [
    "What this tells us:\n",
    "- Every single record has at least one category label. That’s ok for our supervision signal."
   ]
  },
  {
   "cell_type": "code",
   "execution_count": 19,
   "id": "d7ce4315",
   "metadata": {},
   "outputs": [
    {
     "data": {
      "text/plain": [
       "count    112590\n",
       "mean        113\n",
       "std          53\n",
       "min           0\n",
       "25%          67\n",
       "50%         114\n",
       "75%         158\n",
       "max        1455\n",
       "Name: title, dtype: int64"
      ]
     },
     "execution_count": 19,
     "metadata": {},
     "output_type": "execute_result"
    }
   ],
   "source": [
    "amazon_review_df['title'].str.len().describe().apply(lambda x: int(x))"
   ]
  },
  {
   "cell_type": "markdown",
   "id": "c6022c5d",
   "metadata": {},
   "source": [
    "Observations:\n",
    "\n",
    "- Titles run from 0 chars up to 1,455 chars (some appear to be full descriptions).\n",
    "\n",
    "- Median length ~114 chars is reasonable, but we’ll need a cleaning pipeline (e.g. truncation, deduping, stopword removal)."
   ]
  },
  {
   "cell_type": "markdown",
   "id": "e88c2d8d",
   "metadata": {},
   "source": [
    "Problem: There is no dedicated brand column in the main schema.\n",
    "\n",
    "Next step: let’s inspect the details field (often a dict) to see if brand is buried there:"
   ]
  },
  {
   "cell_type": "markdown",
   "id": "62b9b554",
   "metadata": {},
   "source": [
    "If one of those keys is “Brand” or “Manufacturer”, we could extract it—but that’d require:\n",
    "\n",
    "- Parsing dozens of different key-names across categories\n",
    "- Normalizing brand strings (case, spelling variants, noise)\n",
    "- Handling missing or malformed entries"
   ]
  },
  {
   "cell_type": "code",
   "execution_count": 20,
   "id": "b462cb45",
   "metadata": {},
   "outputs": [
    {
     "data": {
      "text/plain": [
       "'{\"Package Dimensions\": \"7.1 x 5.5 x 3 inches; 2.38 Pounds\", \"UPC\": \"617390882781\"}'"
      ]
     },
     "execution_count": 20,
     "metadata": {},
     "output_type": "execute_result"
    }
   ],
   "source": [
    "sample_details = amazon_review_df['details'].dropna().iloc[0]\n",
    "sample_details"
   ]
  },
  {
   "cell_type": "markdown",
   "id": "a343edf1",
   "metadata": {},
   "source": [
    "That confirms:\n",
    "- No brand or manufacturer field is buried here—just logistics metadata.\n",
    "- We’d have to fall back on brittle heuristics (e.g. regexes over title) to guess brands, which would be noisy and time-consuming."
   ]
  },
  {
   "cell_type": "markdown",
   "id": "c3723748",
   "metadata": {},
   "source": [
    "Bottom line for “raw_meta_All_Beauty” (and its sister splits)\n",
    "\n",
    "- Pros\n",
    "    - 100 % of items have categories.\n",
    "    - Product titles exist (albeit noisy/variable length).\n",
    "\n",
    "- Cons\n",
    "    - No explicit brand—the critical second input we need.\n",
    "    - Extracting brands reliably would eat up most of our 4-day window and introduce noise."
   ]
  },
  {
   "cell_type": "markdown",
   "id": "4cfe3c1e",
   "metadata": {},
   "source": [
    "Check null values:"
   ]
  },
  {
   "cell_type": "code",
   "execution_count": 37,
   "id": "8ed63fcb",
   "metadata": {},
   "outputs": [
    {
     "data": {
      "text/plain": [
       "title            0.0\n",
       "main_category    0.0\n",
       "dtype: float64"
      ]
     },
     "execution_count": 37,
     "metadata": {},
     "output_type": "execute_result"
    }
   ],
   "source": [
    "amazon_review_df[['title','main_category']].isna().mean().round(3)"
   ]
  },
  {
   "cell_type": "markdown",
   "id": "7c043e39",
   "metadata": {},
   "source": [
    "Summary table:"
   ]
  },
  {
   "cell_type": "markdown",
   "id": "e5502a36",
   "metadata": {},
   "source": [
    "| **Criterion**                  | **Status**            | **Comment**                                                                          |\n",
    "| ------------------------------ | --------------------- | ------------------------------------------------------------------------------------ |\n",
    "| Dataset Size                   | ✅🟢 Very Large        | \\~140 M reviews across all splits — massive scale                                    |\n",
    "| Key Fields Present             | ✅🟢 title, categories | 100 % of rows have `categories`; `title` always present                              |\n",
    "| Explicit Brand Column          | ❌🔴 Absent            | No direct `brand` field in metadata — must extract from `details` or `title`         |\n",
    "| Brand Extraction Effort        | ❌🔴 High              | `details` dict rarely contains brand; title parsing/NLP needed — very time-consuming |\n",
    "| Category Depth                 | ✅🟢 Hierarchical      | Multi-level category paths — rich but requires flattening                            |\n",
    "| Title Quality & Noise          | ⚠️ Variable           | Titles range 0–1 455 chars; includes long descriptions — cleaning required           |\n",
    "| Additional Metadata            | ✅🟢 Present           | Ratings, price, images, etc. — but heavy review text payload                         |\n",
    "| Suitability for Category Model | ✅🟢 Strong            | Clean category labels, large volume                                                  |\n",
    "| Suitability for Brand Model    | ❌🔴 Very Weak         | Brand extraction from unstructured text is high-risk under a 4-day window            |\n"
   ]
  },
  {
   "cell_type": "markdown",
   "id": "31a5c5bc",
   "metadata": {},
   "source": [
    "\n",
    "### 2. [Kaggle - Amazon Products Dataset](https://www.kaggle.com/datasets/lokeshparab/amazon-products-dataset/data?select=Amazon-Products.csv)"
   ]
  },
  {
   "cell_type": "code",
   "execution_count": 2,
   "id": "ddcf2f9c",
   "metadata": {},
   "outputs": [
    {
     "data": {
      "text/plain": [
       "'C:\\\\Users\\\\franc\\\\.cache\\\\kagglehub\\\\datasets\\\\lokeshparab\\\\amazon-products-dataset\\\\versions\\\\2'"
      ]
     },
     "execution_count": 2,
     "metadata": {},
     "output_type": "execute_result"
    }
   ],
   "source": [
    "path_to_amazon_product = kagglehub.dataset_download(\"lokeshparab/amazon-products-dataset\")\n",
    "path_to_amazon_product"
   ]
  },
  {
   "cell_type": "code",
   "execution_count": 3,
   "id": "c49cf44f",
   "metadata": {},
   "outputs": [],
   "source": [
    "amazon_product_df = pd.read_csv(f\"{path_to_amazon_product}/Amazon-Products.csv\")"
   ]
  },
  {
   "cell_type": "code",
   "execution_count": 4,
   "id": "20aeaa04",
   "metadata": {},
   "outputs": [
    {
     "data": {
      "text/plain": [
       "Index(['Unnamed: 0', 'name', 'main_category', 'sub_category', 'image', 'link',\n",
       "       'ratings', 'no_of_ratings', 'discount_price', 'actual_price'],\n",
       "      dtype='object')"
      ]
     },
     "execution_count": 4,
     "metadata": {},
     "output_type": "execute_result"
    }
   ],
   "source": [
    "amazon_product_df.columns"
   ]
  },
  {
   "cell_type": "code",
   "execution_count": 5,
   "id": "12d93313",
   "metadata": {},
   "outputs": [
    {
     "data": {
      "text/html": [
       "<div>\n",
       "<style scoped>\n",
       "    .dataframe tbody tr th:only-of-type {\n",
       "        vertical-align: middle;\n",
       "    }\n",
       "\n",
       "    .dataframe tbody tr th {\n",
       "        vertical-align: top;\n",
       "    }\n",
       "\n",
       "    .dataframe thead th {\n",
       "        text-align: right;\n",
       "    }\n",
       "</style>\n",
       "<table border=\"1\" class=\"dataframe\">\n",
       "  <thead>\n",
       "    <tr style=\"text-align: right;\">\n",
       "      <th></th>\n",
       "      <th>name</th>\n",
       "      <th>main_category</th>\n",
       "      <th>sub_category</th>\n",
       "    </tr>\n",
       "  </thead>\n",
       "  <tbody>\n",
       "    <tr>\n",
       "      <th>0</th>\n",
       "      <td>Lloyd 1.5 Ton 3 Star Inverter Split Ac (5 In 1...</td>\n",
       "      <td>appliances</td>\n",
       "      <td>Air Conditioners</td>\n",
       "    </tr>\n",
       "    <tr>\n",
       "      <th>1</th>\n",
       "      <td>LG 1.5 Ton 5 Star AI DUAL Inverter Split AC (C...</td>\n",
       "      <td>appliances</td>\n",
       "      <td>Air Conditioners</td>\n",
       "    </tr>\n",
       "    <tr>\n",
       "      <th>2</th>\n",
       "      <td>LG 1 Ton 4 Star Ai Dual Inverter Split Ac (Cop...</td>\n",
       "      <td>appliances</td>\n",
       "      <td>Air Conditioners</td>\n",
       "    </tr>\n",
       "    <tr>\n",
       "      <th>3</th>\n",
       "      <td>LG 1.5 Ton 3 Star AI DUAL Inverter Split AC (C...</td>\n",
       "      <td>appliances</td>\n",
       "      <td>Air Conditioners</td>\n",
       "    </tr>\n",
       "    <tr>\n",
       "      <th>4</th>\n",
       "      <td>Carrier 1.5 Ton 3 Star Inverter Split AC (Copp...</td>\n",
       "      <td>appliances</td>\n",
       "      <td>Air Conditioners</td>\n",
       "    </tr>\n",
       "    <tr>\n",
       "      <th>...</th>\n",
       "      <td>...</td>\n",
       "      <td>...</td>\n",
       "      <td>...</td>\n",
       "    </tr>\n",
       "    <tr>\n",
       "      <th>551580</th>\n",
       "      <td>Adidas Regular Fit Men's Track Tops</td>\n",
       "      <td>sports &amp; fitness</td>\n",
       "      <td>Yoga</td>\n",
       "    </tr>\n",
       "    <tr>\n",
       "      <th>551581</th>\n",
       "      <td>Redwolf Noice Toit Smort - Hoodie (Black)</td>\n",
       "      <td>sports &amp; fitness</td>\n",
       "      <td>Yoga</td>\n",
       "    </tr>\n",
       "    <tr>\n",
       "      <th>551582</th>\n",
       "      <td>Redwolf Schrute Farms B&amp;B - Hoodie (Navy Blue)</td>\n",
       "      <td>sports &amp; fitness</td>\n",
       "      <td>Yoga</td>\n",
       "    </tr>\n",
       "    <tr>\n",
       "      <th>551583</th>\n",
       "      <td>Puma Men Shorts</td>\n",
       "      <td>sports &amp; fitness</td>\n",
       "      <td>Yoga</td>\n",
       "    </tr>\n",
       "    <tr>\n",
       "      <th>551584</th>\n",
       "      <td>Mothercare Printed Cotton Elastane Girls Infan...</td>\n",
       "      <td>sports &amp; fitness</td>\n",
       "      <td>Yoga</td>\n",
       "    </tr>\n",
       "  </tbody>\n",
       "</table>\n",
       "<p>551585 rows × 3 columns</p>\n",
       "</div>"
      ],
      "text/plain": [
       "                                                     name     main_category  \\\n",
       "0       Lloyd 1.5 Ton 3 Star Inverter Split Ac (5 In 1...        appliances   \n",
       "1       LG 1.5 Ton 5 Star AI DUAL Inverter Split AC (C...        appliances   \n",
       "2       LG 1 Ton 4 Star Ai Dual Inverter Split Ac (Cop...        appliances   \n",
       "3       LG 1.5 Ton 3 Star AI DUAL Inverter Split AC (C...        appliances   \n",
       "4       Carrier 1.5 Ton 3 Star Inverter Split AC (Copp...        appliances   \n",
       "...                                                   ...               ...   \n",
       "551580                Adidas Regular Fit Men's Track Tops  sports & fitness   \n",
       "551581          Redwolf Noice Toit Smort - Hoodie (Black)  sports & fitness   \n",
       "551582     Redwolf Schrute Farms B&B - Hoodie (Navy Blue)  sports & fitness   \n",
       "551583                                    Puma Men Shorts  sports & fitness   \n",
       "551584  Mothercare Printed Cotton Elastane Girls Infan...  sports & fitness   \n",
       "\n",
       "            sub_category  \n",
       "0       Air Conditioners  \n",
       "1       Air Conditioners  \n",
       "2       Air Conditioners  \n",
       "3       Air Conditioners  \n",
       "4       Air Conditioners  \n",
       "...                  ...  \n",
       "551580              Yoga  \n",
       "551581              Yoga  \n",
       "551582              Yoga  \n",
       "551583              Yoga  \n",
       "551584              Yoga  \n",
       "\n",
       "[551585 rows x 3 columns]"
      ]
     },
     "execution_count": 5,
     "metadata": {},
     "output_type": "execute_result"
    }
   ],
   "source": [
    "amazon_product_df[['name','main_category','sub_category']]"
   ]
  },
  {
   "cell_type": "markdown",
   "id": "80c5a263",
   "metadata": {},
   "source": [
    "The column name contains structured titles like:\n",
    "- \"LG 1.5 Ton 5 Star AI DUAL Inverter Split AC ...\"\n",
    "- \"Redwolf Schrute Farms B&B - Hoodie (Navy Blue)\"\n",
    "- \"Mothercare Printed Cotton Elastane Girls Infant ...\"\n",
    "\n",
    "We can heuristically extract potential brands from the first word(s). Let’s test this:"
   ]
  },
  {
   "cell_type": "code",
   "execution_count": 26,
   "id": "0a0ca599",
   "metadata": {},
   "outputs": [
    {
     "data": {
      "text/plain": [
       "brand_candidate\n",
       "PC         6406\n",
       "Puma       4971\n",
       "Shopnet    4259\n",
       "Men        4131\n",
       "U          3981\n",
       "Amazon     3659\n",
       "Nike       3216\n",
       "The        3169\n",
       "Avsar      2907\n",
       "Van        2877\n",
       "NEUTRON    2852\n",
       "Red        2502\n",
       "Campus     2450\n",
       "Jockey     2381\n",
       "Pepe       2139\n",
       "Adidas     2118\n",
       "Arrow      2107\n",
       "Peter      2092\n",
       "Jack       1947\n",
       "Women      1925\n",
       "Levi       1858\n",
       "AONES      1749\n",
       "Clovia     1723\n",
       "Max        1663\n",
       "BATA       1570\n",
       "Baggit     1507\n",
       "Lee        1499\n",
       "Yellow     1484\n",
       "Spykar     1475\n",
       "Zeya       1473\n",
       "Name: count, dtype: int64"
      ]
     },
     "execution_count": 26,
     "metadata": {},
     "output_type": "execute_result"
    }
   ],
   "source": [
    "amazon_product_df['brand_candidate'] = amazon_product_df['name'].str.extract(r'^([\\w&-]+)')\n",
    "amazon_product_df['brand_candidate'].value_counts().head(30)"
   ]
  },
  {
   "cell_type": "markdown",
   "id": "170b0f51",
   "metadata": {},
   "source": [
    "- Pros:\n",
    "    This works well for many clean brands (LG, Sony, Puma).\n",
    "\n",
    "- Cons:\n",
    "    - Fails if product names start with adjectives or missing brand names (e.g., \"Wireless Bluetooth...\" or \"32L Convection Oven...\")\n",
    "    - Might split brands with spaces (\"Mothercare\", \"Philips Avent\", etc.)\n",
    "    - If brand prediction is central to your deliverable, this dataset lacks an explicit brand column, which could slow you down with manual or model-based extraction (NER, rules, or hybrid)."
   ]
  },
  {
   "cell_type": "markdown",
   "id": "aa6a0fc6",
   "metadata": {},
   "source": [
    "Check null values:"
   ]
  },
  {
   "cell_type": "code",
   "execution_count": 27,
   "id": "37558968",
   "metadata": {},
   "outputs": [
    {
     "data": {
      "text/plain": [
       "name             0.0\n",
       "main_category    0.0\n",
       "sub_category     0.0\n",
       "dtype: float64"
      ]
     },
     "execution_count": 27,
     "metadata": {},
     "output_type": "execute_result"
    }
   ],
   "source": [
    "amazon_product_df[['name','main_category','sub_category']].isna().mean().round(3)"
   ]
  },
  {
   "cell_type": "markdown",
   "id": "7f4f7f1b",
   "metadata": {},
   "source": [
    "Calculate nunique value for main columns"
   ]
  },
  {
   "cell_type": "code",
   "execution_count": 28,
   "id": "f2f7f160",
   "metadata": {},
   "outputs": [
    {
     "data": {
      "text/plain": [
       "{'n_names': 396210, 'n_main_categories': 20, 'n_sub_categories': 112}"
      ]
     },
     "execution_count": 28,
     "metadata": {},
     "output_type": "execute_result"
    }
   ],
   "source": [
    "{\n",
    "    'n_names':           amazon_product_df['name'].nunique(),\n",
    "    'n_main_categories': amazon_product_df['main_category'].nunique(),\n",
    "    'n_sub_categories':  amazon_product_df['sub_category'].nunique()\n",
    "}"
   ]
  },
  {
   "cell_type": "markdown",
   "id": "d5ed3560",
   "metadata": {},
   "source": [
    "We have a strong category hierarchy:\n",
    "- main_category: 20 values (e.g., \"appliances\", \"sports & fitness\", \"electronics\")\n",
    "- sub_category: 112 values\n",
    "\n",
    "This is very useful for our goal."
   ]
  },
  {
   "cell_type": "markdown",
   "id": "a0beb365",
   "metadata": {},
   "source": [
    "Summary table:"
   ]
  },
  {
   "cell_type": "markdown",
   "id": "c2f955f3",
   "metadata": {},
   "source": [
    "| **Criterion**                  | **Status**                              | **Comment**                                                              |\n",
    "| ------------------------------ | --------------------------------------- | ------------------------------------------------------------------------ |\n",
    "| Dataset Size                   | ✅🟢 Large                               | \\~551 k rows — plenty of examples for modeling                           |\n",
    "| Key Fields Present             | ✅🟢 name, main\\_category, sub\\_category | No missing values in these columns                                       |\n",
    "| Explicit Brand Column          | ❌🔴 Missing                             | Must infer from `name` (e.g. first token) — error-prone                  |\n",
    "| Brand Extraction Effort        | ⚠️ Heuristic/NLP                        | Will require regex or NER; introduces noise and eats into 4-day timeline |\n",
    "| Category Hierarchy             | ✅🟢 Rich                                | 20 main + 112 sub categories — good granularity                          |\n",
    "| Title Quality & Diversity      | ✅🟢 High                                | \\~396 k unique titles; fairly structured (“Brand + Specs”)               |\n",
    "| Additional Metadata            | ✅🟢 Present                             | Ratings, prices, links — potentially useful for future features          |\n",
    "| Suitability for Category Model | ✅🟢 Strong                              | Excellent for category classification                                    |\n",
    "| Suitability for Brand Model    | ❌🔴 Weak                                | No native `brand` field—preprocessing required                           |\n"
   ]
  },
  {
   "cell_type": "markdown",
   "id": "2f5214f3",
   "metadata": {},
   "source": [
    "### 3. [OpenFoodFacts – Product Database (HuggingFace)](https://huggingface.co/datasets/openfoodfacts/product-database)"
   ]
  },
  {
   "cell_type": "markdown",
   "id": "40e545f5",
   "metadata": {},
   "source": [
    "Load the OpenFoodFacts product database from HuggingFace."
   ]
  },
  {
   "cell_type": "code",
   "execution_count": null,
   "id": "c4ab9df2",
   "metadata": {},
   "outputs": [],
   "source": [
    "open_food_dataset = load_dataset(\"openfoodfacts/product-database\")"
   ]
  },
  {
   "cell_type": "markdown",
   "id": "347f3e62",
   "metadata": {},
   "source": [
    "Convert the first 500,000 food products to a pandas DataFrame for analysis."
   ]
  },
  {
   "cell_type": "code",
   "execution_count": 4,
   "id": "09aff50d",
   "metadata": {},
   "outputs": [],
   "source": [
    "open_food_df = open_food_dataset['food'].select(range(500_000)).to_pandas()"
   ]
  },
  {
   "cell_type": "markdown",
   "id": "56425052",
   "metadata": {},
   "source": [
    "List all available columns in the DataFrame."
   ]
  },
  {
   "cell_type": "code",
   "execution_count": 36,
   "id": "9580c22e",
   "metadata": {},
   "outputs": [
    {
     "data": {
      "text/plain": [
       "['additives_n',\n",
       " 'additives_tags',\n",
       " 'allergens_tags',\n",
       " 'brands_tags',\n",
       " 'brands',\n",
       " 'categories',\n",
       " 'categories_tags',\n",
       " 'checkers_tags',\n",
       " 'ciqual_food_name_tags',\n",
       " 'cities_tags',\n",
       " 'code',\n",
       " 'compared_to_category',\n",
       " 'complete',\n",
       " 'completeness',\n",
       " 'correctors_tags',\n",
       " 'countries_tags',\n",
       " 'created_t',\n",
       " 'creator',\n",
       " 'data_quality_errors_tags',\n",
       " 'data_quality_info_tags',\n",
       " 'data_quality_warnings_tags',\n",
       " 'data_sources_tags',\n",
       " 'ecoscore_data',\n",
       " 'ecoscore_grade',\n",
       " 'ecoscore_score',\n",
       " 'ecoscore_tags',\n",
       " 'editors',\n",
       " 'emb_codes_tags',\n",
       " 'emb_codes',\n",
       " 'entry_dates_tags',\n",
       " 'food_groups_tags',\n",
       " 'generic_name',\n",
       " 'images',\n",
       " 'informers_tags',\n",
       " 'ingredients_analysis_tags',\n",
       " 'ingredients_from_palm_oil_n',\n",
       " 'ingredients_n',\n",
       " 'ingredients_original_tags',\n",
       " 'ingredients_percent_analysis',\n",
       " 'ingredients_tags',\n",
       " 'ingredients_text',\n",
       " 'ingredients_with_specified_percent_n',\n",
       " 'ingredients_with_unspecified_percent_n',\n",
       " 'ingredients_without_ciqual_codes_n',\n",
       " 'ingredients_without_ciqual_codes',\n",
       " 'ingredients',\n",
       " 'known_ingredients_n',\n",
       " 'labels_tags',\n",
       " 'labels',\n",
       " 'lang',\n",
       " 'languages_tags',\n",
       " 'last_edit_dates_tags',\n",
       " 'last_editor',\n",
       " 'last_image_t',\n",
       " 'last_modified_by',\n",
       " 'last_modified_t',\n",
       " 'last_updated_t',\n",
       " 'link',\n",
       " 'main_countries_tags',\n",
       " 'manufacturing_places_tags',\n",
       " 'manufacturing_places',\n",
       " 'max_imgid',\n",
       " 'minerals_tags',\n",
       " 'misc_tags',\n",
       " 'new_additives_n',\n",
       " 'no_nutrition_data',\n",
       " 'nova_group',\n",
       " 'nova_groups_tags',\n",
       " 'nova_groups',\n",
       " 'nucleotides_tags',\n",
       " 'nutrient_levels_tags',\n",
       " 'nutriments',\n",
       " 'nutriscore_grade',\n",
       " 'nutriscore_score',\n",
       " 'nutrition_data_per',\n",
       " 'obsolete',\n",
       " 'origins_tags',\n",
       " 'origins',\n",
       " 'owner_fields',\n",
       " 'owner',\n",
       " 'packagings_complete',\n",
       " 'packaging_recycling_tags',\n",
       " 'packaging_shapes_tags',\n",
       " 'packaging_tags',\n",
       " 'packaging_text',\n",
       " 'packaging',\n",
       " 'packagings',\n",
       " 'photographers',\n",
       " 'popularity_key',\n",
       " 'popularity_tags',\n",
       " 'product_name',\n",
       " 'product_quantity_unit',\n",
       " 'product_quantity',\n",
       " 'purchase_places_tags',\n",
       " 'quantity',\n",
       " 'rev',\n",
       " 'scans_n',\n",
       " 'serving_quantity',\n",
       " 'serving_size',\n",
       " 'states_tags',\n",
       " 'stores_tags',\n",
       " 'stores',\n",
       " 'traces_tags',\n",
       " 'unique_scans_n',\n",
       " 'unknown_ingredients_n',\n",
       " 'unknown_nutrients_tags',\n",
       " 'vitamins_tags',\n",
       " 'with_non_nutritive_sweeteners',\n",
       " 'with_sweeteners',\n",
       " 'product_name_flat',\n",
       " 'categories_norm']"
      ]
     },
     "execution_count": 36,
     "metadata": {},
     "output_type": "execute_result"
    }
   ],
   "source": [
    "list(open_food_df.columns)"
   ]
  },
  {
   "cell_type": "markdown",
   "id": "56c45443",
   "metadata": {},
   "source": [
    "Preview key columns: product name, brands, categories, and category tags."
   ]
  },
  {
   "cell_type": "code",
   "execution_count": null,
   "id": "3b9fed64",
   "metadata": {},
   "outputs": [
    {
     "data": {
      "text/html": [
       "<div>\n",
       "<style scoped>\n",
       "    .dataframe tbody tr th:only-of-type {\n",
       "        vertical-align: middle;\n",
       "    }\n",
       "\n",
       "    .dataframe tbody tr th {\n",
       "        vertical-align: top;\n",
       "    }\n",
       "\n",
       "    .dataframe thead th {\n",
       "        text-align: right;\n",
       "    }\n",
       "</style>\n",
       "<table border=\"1\" class=\"dataframe\">\n",
       "  <thead>\n",
       "    <tr style=\"text-align: right;\">\n",
       "      <th></th>\n",
       "      <th>product_name</th>\n",
       "      <th>brands</th>\n",
       "      <th>categories</th>\n",
       "      <th>categories_tags</th>\n",
       "    </tr>\n",
       "  </thead>\n",
       "  <tbody>\n",
       "    <tr>\n",
       "      <th>0</th>\n",
       "      <td>[{'lang': 'main', 'text': 'Véritable pâte à ta...</td>\n",
       "      <td>Bovetti</td>\n",
       "      <td>Petit-déjeuners,Produits à tartiner,Produits à...</td>\n",
       "      <td>[en:breakfasts, en:spreads, en:sweet-spreads, ...</td>\n",
       "    </tr>\n",
       "    <tr>\n",
       "      <th>1</th>\n",
       "      <td>[{'lang': 'main', 'text': 'Chamomile Herbal Te...</td>\n",
       "      <td>Lagg's</td>\n",
       "      <td>null</td>\n",
       "      <td>[en:null]</td>\n",
       "    </tr>\n",
       "    <tr>\n",
       "      <th>2</th>\n",
       "      <td>[{'lang': 'main', 'text': 'Lagg's, herbal tea,...</td>\n",
       "      <td>Lagg's</td>\n",
       "      <td>Plant-based foods and beverages, Beverages, Ho...</td>\n",
       "      <td>[en:plant-based-foods-and-beverages, en:bevera...</td>\n",
       "    </tr>\n",
       "    <tr>\n",
       "      <th>3</th>\n",
       "      <td>[{'lang': 'main', 'text': 'Linden Flowers Tea'...</td>\n",
       "      <td>Lagg's</td>\n",
       "      <td>null</td>\n",
       "      <td>[en:null]</td>\n",
       "    </tr>\n",
       "    <tr>\n",
       "      <th>4</th>\n",
       "      <td>[{'lang': 'main', 'text': 'Herbal Tea, Hibiscu...</td>\n",
       "      <td>Lagg's</td>\n",
       "      <td>None</td>\n",
       "      <td>None</td>\n",
       "    </tr>\n",
       "  </tbody>\n",
       "</table>\n",
       "</div>"
      ],
      "text/plain": [
       "                                        product_name   brands  \\\n",
       "0  [{'lang': 'main', 'text': 'Véritable pâte à ta...  Bovetti   \n",
       "1  [{'lang': 'main', 'text': 'Chamomile Herbal Te...   Lagg's   \n",
       "2  [{'lang': 'main', 'text': 'Lagg's, herbal tea,...   Lagg's   \n",
       "3  [{'lang': 'main', 'text': 'Linden Flowers Tea'...   Lagg's   \n",
       "4  [{'lang': 'main', 'text': 'Herbal Tea, Hibiscu...   Lagg's   \n",
       "\n",
       "                                          categories  \\\n",
       "0  Petit-déjeuners,Produits à tartiner,Produits à...   \n",
       "1                                               null   \n",
       "2  Plant-based foods and beverages, Beverages, Ho...   \n",
       "3                                               null   \n",
       "4                                               None   \n",
       "\n",
       "                                     categories_tags  \n",
       "0  [en:breakfasts, en:spreads, en:sweet-spreads, ...  \n",
       "1                                          [en:null]  \n",
       "2  [en:plant-based-foods-and-beverages, en:bevera...  \n",
       "3                                          [en:null]  \n",
       "4                                               None  "
      ]
     },
     "execution_count": 41,
     "metadata": {},
     "output_type": "execute_result"
    }
   ],
   "source": [
    "open_food_df[['product_name','brands', 'categories', 'categories_tags']].head()"
   ]
  },
  {
   "cell_type": "markdown",
   "id": "be8947d4",
   "metadata": {},
   "source": [
    "Let's explore some new products in the OpenFoodFacts dataset to better understand the available fields and data quality."
   ]
  },
  {
   "cell_type": "code",
   "execution_count": 60,
   "id": "565de5af",
   "metadata": {},
   "outputs": [],
   "source": [
    "open_food_df['has_nutella'] = open_food_df['product_name'].astype(str).str.contains('Nutella', case=False, na=False)"
   ]
  },
  {
   "cell_type": "code",
   "execution_count": 62,
   "id": "24c4cd52",
   "metadata": {},
   "outputs": [
    {
     "data": {
      "text/html": [
       "<div>\n",
       "<style scoped>\n",
       "    .dataframe tbody tr th:only-of-type {\n",
       "        vertical-align: middle;\n",
       "    }\n",
       "\n",
       "    .dataframe tbody tr th {\n",
       "        vertical-align: top;\n",
       "    }\n",
       "\n",
       "    .dataframe thead th {\n",
       "        text-align: right;\n",
       "    }\n",
       "</style>\n",
       "<table border=\"1\" class=\"dataframe\">\n",
       "  <thead>\n",
       "    <tr style=\"text-align: right;\">\n",
       "      <th></th>\n",
       "      <th>additives_n</th>\n",
       "      <th>additives_tags</th>\n",
       "      <th>allergens_tags</th>\n",
       "      <th>brands_tags</th>\n",
       "      <th>brands</th>\n",
       "      <th>categories</th>\n",
       "      <th>categories_tags</th>\n",
       "      <th>checkers_tags</th>\n",
       "      <th>ciqual_food_name_tags</th>\n",
       "      <th>cities_tags</th>\n",
       "      <th>...</th>\n",
       "      <th>unique_scans_n</th>\n",
       "      <th>unknown_ingredients_n</th>\n",
       "      <th>unknown_nutrients_tags</th>\n",
       "      <th>vitamins_tags</th>\n",
       "      <th>with_non_nutritive_sweeteners</th>\n",
       "      <th>with_sweeteners</th>\n",
       "      <th>product_name_flat</th>\n",
       "      <th>categories_norm</th>\n",
       "      <th>has_pate</th>\n",
       "      <th>has_nutella</th>\n",
       "    </tr>\n",
       "  </thead>\n",
       "  <tbody>\n",
       "    <tr>\n",
       "      <th>942</th>\n",
       "      <td>0.0</td>\n",
       "      <td>[]</td>\n",
       "      <td>[en:gluten, en:milk, en:nuts, en:soybeans]</td>\n",
       "      <td>[ferrero-u-s-a-incorporated]</td>\n",
       "      <td>Ferrero U.S.A.  Incorporated</td>\n",
       "      <td>Snacks, Sweet snacks, Biscuits and cakes, Bisc...</td>\n",
       "      <td>[en:snacks, en:sweet-snacks, en:biscuits-and-c...</td>\n",
       "      <td>[]</td>\n",
       "      <td>[unknown]</td>\n",
       "      <td>None</td>\n",
       "      <td>...</td>\n",
       "      <td>1.0</td>\n",
       "      <td>2.0</td>\n",
       "      <td>[]</td>\n",
       "      <td>[]</td>\n",
       "      <td>NaN</td>\n",
       "      <td>NaN</td>\n",
       "      <td>None</td>\n",
       "      <td>Snacks, Sweet snacks, Biscuits and cakes, Bisc...</td>\n",
       "      <td>False</td>\n",
       "      <td>True</td>\n",
       "    </tr>\n",
       "    <tr>\n",
       "      <th>947</th>\n",
       "      <td>0.0</td>\n",
       "      <td>[]</td>\n",
       "      <td>[en:gluten, en:milk, en:nuts, en:soybeans]</td>\n",
       "      <td>[xx:ferrerro, xx:nutella]</td>\n",
       "      <td>Nutella,Ferrerro</td>\n",
       "      <td>Plant-based foods and beverages,Plant-based fo...</td>\n",
       "      <td>[en:plant-based-foods-and-beverages, en:plant-...</td>\n",
       "      <td>[]</td>\n",
       "      <td>[unknown]</td>\n",
       "      <td>[]</td>\n",
       "      <td>...</td>\n",
       "      <td>1.0</td>\n",
       "      <td>3.0</td>\n",
       "      <td>[]</td>\n",
       "      <td>[]</td>\n",
       "      <td>NaN</td>\n",
       "      <td>NaN</td>\n",
       "      <td>None</td>\n",
       "      <td>Plant-based foods and beverages,Plant-based fo...</td>\n",
       "      <td>False</td>\n",
       "      <td>True</td>\n",
       "    </tr>\n",
       "    <tr>\n",
       "      <th>950</th>\n",
       "      <td>0.0</td>\n",
       "      <td>[]</td>\n",
       "      <td>[en:milk, en:nuts, en:soybeans]</td>\n",
       "      <td>[xx:ferrero, xx:ferrero-u-s-a-incorporated]</td>\n",
       "      <td>Ferrero,Ferrero U.S.A.  Incorporated</td>\n",
       "      <td>Plant-based foods and beverages,Plant-based fo...</td>\n",
       "      <td>[en:plant-based-foods-and-beverages, en:plant-...</td>\n",
       "      <td>[]</td>\n",
       "      <td>[unknown]</td>\n",
       "      <td>[]</td>\n",
       "      <td>...</td>\n",
       "      <td>4.0</td>\n",
       "      <td>1.0</td>\n",
       "      <td>[]</td>\n",
       "      <td>[]</td>\n",
       "      <td>NaN</td>\n",
       "      <td>NaN</td>\n",
       "      <td>None</td>\n",
       "      <td>Plant-based foods and beverages,Plant-based fo...</td>\n",
       "      <td>False</td>\n",
       "      <td>True</td>\n",
       "    </tr>\n",
       "    <tr>\n",
       "      <th>951</th>\n",
       "      <td>0.0</td>\n",
       "      <td>[]</td>\n",
       "      <td>[en:milk, en:nuts, en:soybeans]</td>\n",
       "      <td>[nutella, ferrero]</td>\n",
       "      <td>Nutella,Ferrero</td>\n",
       "      <td>Plant-based foods and beverages, Plant-based f...</td>\n",
       "      <td>[en:plant-based-foods-and-beverages, en:plant-...</td>\n",
       "      <td>[]</td>\n",
       "      <td>[chocolate-spread-with-hazelnuts]</td>\n",
       "      <td>[]</td>\n",
       "      <td>...</td>\n",
       "      <td>1.0</td>\n",
       "      <td>1.0</td>\n",
       "      <td>[]</td>\n",
       "      <td>[]</td>\n",
       "      <td>NaN</td>\n",
       "      <td>NaN</td>\n",
       "      <td>None</td>\n",
       "      <td>Plant-based foods and beverages, Plant-based f...</td>\n",
       "      <td>False</td>\n",
       "      <td>True</td>\n",
       "    </tr>\n",
       "    <tr>\n",
       "      <th>952</th>\n",
       "      <td>0.0</td>\n",
       "      <td>[]</td>\n",
       "      <td>[en:milk, en:nuts, en:soybeans]</td>\n",
       "      <td>[ferrero, ferrero-u-s-a-incorporated]</td>\n",
       "      <td>Ferrero,  Ferrero U.S.A.  Incorporated</td>\n",
       "      <td>Plant-based foods and beverages, Plant-based f...</td>\n",
       "      <td>[en:plant-based-foods-and-beverages, en:plant-...</td>\n",
       "      <td>[]</td>\n",
       "      <td>[unknown]</td>\n",
       "      <td>None</td>\n",
       "      <td>...</td>\n",
       "      <td>11.0</td>\n",
       "      <td>1.0</td>\n",
       "      <td>[]</td>\n",
       "      <td>[]</td>\n",
       "      <td>NaN</td>\n",
       "      <td>NaN</td>\n",
       "      <td>None</td>\n",
       "      <td>Plant-based foods and beverages, Plant-based f...</td>\n",
       "      <td>False</td>\n",
       "      <td>True</td>\n",
       "    </tr>\n",
       "    <tr>\n",
       "      <th>...</th>\n",
       "      <td>...</td>\n",
       "      <td>...</td>\n",
       "      <td>...</td>\n",
       "      <td>...</td>\n",
       "      <td>...</td>\n",
       "      <td>...</td>\n",
       "      <td>...</td>\n",
       "      <td>...</td>\n",
       "      <td>...</td>\n",
       "      <td>...</td>\n",
       "      <td>...</td>\n",
       "      <td>...</td>\n",
       "      <td>...</td>\n",
       "      <td>...</td>\n",
       "      <td>...</td>\n",
       "      <td>...</td>\n",
       "      <td>...</td>\n",
       "      <td>...</td>\n",
       "      <td>...</td>\n",
       "      <td>...</td>\n",
       "      <td>...</td>\n",
       "    </tr>\n",
       "    <tr>\n",
       "      <th>437030</th>\n",
       "      <td>1.0</td>\n",
       "      <td>[en:e322]</td>\n",
       "      <td>[en:milk, en:nuts, en:soybeans, de:fruits-à-co...</td>\n",
       "      <td>[xx:ferrero]</td>\n",
       "      <td>Ferrero</td>\n",
       "      <td>de:haselnusscremes, de:brotaufstriche, en:fruh...</td>\n",
       "      <td>[en:breakfasts, en:spreads, en:sweet-spreads, ...</td>\n",
       "      <td>[beniben]</td>\n",
       "      <td>[chocolate-spread-with-hazelnuts]</td>\n",
       "      <td>[]</td>\n",
       "      <td>...</td>\n",
       "      <td>326.0</td>\n",
       "      <td>5.0</td>\n",
       "      <td>[]</td>\n",
       "      <td>[]</td>\n",
       "      <td>NaN</td>\n",
       "      <td>NaN</td>\n",
       "      <td>None</td>\n",
       "      <td>de:haselnusscremes, de:brotaufstriche, en:fruh...</td>\n",
       "      <td>False</td>\n",
       "      <td>True</td>\n",
       "    </tr>\n",
       "    <tr>\n",
       "      <th>437031</th>\n",
       "      <td>1.0</td>\n",
       "      <td>[en:e322]</td>\n",
       "      <td>[en:milk, en:nuts, en:soybeans]</td>\n",
       "      <td>[xx:ferrero, xx:nutella]</td>\n",
       "      <td>Ferrero, Nutella</td>\n",
       "      <td>de:nougatcremes, de:brotaufstriche, en:fruhstu...</td>\n",
       "      <td>[en:breakfasts, en:spreads, en:sweet-spreads, ...</td>\n",
       "      <td>[]</td>\n",
       "      <td>[unknown]</td>\n",
       "      <td>[]</td>\n",
       "      <td>...</td>\n",
       "      <td>176.0</td>\n",
       "      <td>0.0</td>\n",
       "      <td>[]</td>\n",
       "      <td>[]</td>\n",
       "      <td>NaN</td>\n",
       "      <td>NaN</td>\n",
       "      <td>None</td>\n",
       "      <td>de:nougatcremes, de:brotaufstriche, en:fruhstu...</td>\n",
       "      <td>False</td>\n",
       "      <td>True</td>\n",
       "    </tr>\n",
       "    <tr>\n",
       "      <th>461544</th>\n",
       "      <td>NaN</td>\n",
       "      <td>None</td>\n",
       "      <td>[]</td>\n",
       "      <td>None</td>\n",
       "      <td>None</td>\n",
       "      <td>Snacks, Snacks sucrés, Biscuits et gâteaux, Pâ...</td>\n",
       "      <td>[en:snacks, en:sweet-snacks, en:biscuits-and-c...</td>\n",
       "      <td>[]</td>\n",
       "      <td>[unknown]</td>\n",
       "      <td>None</td>\n",
       "      <td>...</td>\n",
       "      <td>1.0</td>\n",
       "      <td>NaN</td>\n",
       "      <td>[]</td>\n",
       "      <td>[]</td>\n",
       "      <td>NaN</td>\n",
       "      <td>NaN</td>\n",
       "      <td>None</td>\n",
       "      <td>Snacks, Snacks sucrés, Biscuits et gâteaux, Pâ...</td>\n",
       "      <td>False</td>\n",
       "      <td>True</td>\n",
       "    </tr>\n",
       "    <tr>\n",
       "      <th>468220</th>\n",
       "      <td>1.0</td>\n",
       "      <td>[en:e322]</td>\n",
       "      <td>[en:milk, en:nuts, en:soybeans]</td>\n",
       "      <td>[ferrero, nutella]</td>\n",
       "      <td>Ferrero,Nutella</td>\n",
       "      <td>Breakfasts, Spreads, Sweet spreads, fr:Pâtes à...</td>\n",
       "      <td>[en:breakfasts, en:spreads, en:sweet-spreads, ...</td>\n",
       "      <td>[]</td>\n",
       "      <td>[chocolate-spread-with-hazelnuts]</td>\n",
       "      <td>[]</td>\n",
       "      <td>...</td>\n",
       "      <td>91.0</td>\n",
       "      <td>0.0</td>\n",
       "      <td>[]</td>\n",
       "      <td>[]</td>\n",
       "      <td>NaN</td>\n",
       "      <td>NaN</td>\n",
       "      <td>None</td>\n",
       "      <td>Breakfasts, Spreads, Sweet spreads, fr:Pâtes à...</td>\n",
       "      <td>False</td>\n",
       "      <td>True</td>\n",
       "    </tr>\n",
       "    <tr>\n",
       "      <th>468221</th>\n",
       "      <td>1.0</td>\n",
       "      <td>[en:e322, en:e322i]</td>\n",
       "      <td>[en:gluten, en:milk, en:nuts, en:soybeans]</td>\n",
       "      <td>[nutella]</td>\n",
       "      <td>Nutella</td>\n",
       "      <td>Snacks, Breakfasts, Spreads, Sweet snacks, Swe...</td>\n",
       "      <td>[en:snacks, en:breakfasts, en:spreads, en:swee...</td>\n",
       "      <td>[]</td>\n",
       "      <td>[unknown]</td>\n",
       "      <td>[]</td>\n",
       "      <td>...</td>\n",
       "      <td>10.0</td>\n",
       "      <td>2.0</td>\n",
       "      <td>[]</td>\n",
       "      <td>[]</td>\n",
       "      <td>NaN</td>\n",
       "      <td>NaN</td>\n",
       "      <td>None</td>\n",
       "      <td>Snacks, Breakfasts, Spreads, Sweet snacks, Swe...</td>\n",
       "      <td>False</td>\n",
       "      <td>True</td>\n",
       "    </tr>\n",
       "  </tbody>\n",
       "</table>\n",
       "<p>68 rows × 113 columns</p>\n",
       "</div>"
      ],
      "text/plain": [
       "        additives_n       additives_tags  \\\n",
       "942             0.0                   []   \n",
       "947             0.0                   []   \n",
       "950             0.0                   []   \n",
       "951             0.0                   []   \n",
       "952             0.0                   []   \n",
       "...             ...                  ...   \n",
       "437030          1.0            [en:e322]   \n",
       "437031          1.0            [en:e322]   \n",
       "461544          NaN                 None   \n",
       "468220          1.0            [en:e322]   \n",
       "468221          1.0  [en:e322, en:e322i]   \n",
       "\n",
       "                                           allergens_tags  \\\n",
       "942            [en:gluten, en:milk, en:nuts, en:soybeans]   \n",
       "947            [en:gluten, en:milk, en:nuts, en:soybeans]   \n",
       "950                       [en:milk, en:nuts, en:soybeans]   \n",
       "951                       [en:milk, en:nuts, en:soybeans]   \n",
       "952                       [en:milk, en:nuts, en:soybeans]   \n",
       "...                                                   ...   \n",
       "437030  [en:milk, en:nuts, en:soybeans, de:fruits-à-co...   \n",
       "437031                    [en:milk, en:nuts, en:soybeans]   \n",
       "461544                                                 []   \n",
       "468220                    [en:milk, en:nuts, en:soybeans]   \n",
       "468221         [en:gluten, en:milk, en:nuts, en:soybeans]   \n",
       "\n",
       "                                        brands_tags  \\\n",
       "942                    [ferrero-u-s-a-incorporated]   \n",
       "947                       [xx:ferrerro, xx:nutella]   \n",
       "950     [xx:ferrero, xx:ferrero-u-s-a-incorporated]   \n",
       "951                              [nutella, ferrero]   \n",
       "952           [ferrero, ferrero-u-s-a-incorporated]   \n",
       "...                                             ...   \n",
       "437030                                 [xx:ferrero]   \n",
       "437031                     [xx:ferrero, xx:nutella]   \n",
       "461544                                         None   \n",
       "468220                           [ferrero, nutella]   \n",
       "468221                                    [nutella]   \n",
       "\n",
       "                                        brands  \\\n",
       "942               Ferrero U.S.A.  Incorporated   \n",
       "947                           Nutella,Ferrerro   \n",
       "950       Ferrero,Ferrero U.S.A.  Incorporated   \n",
       "951                            Nutella,Ferrero   \n",
       "952     Ferrero,  Ferrero U.S.A.  Incorporated   \n",
       "...                                        ...   \n",
       "437030                                 Ferrero   \n",
       "437031                        Ferrero, Nutella   \n",
       "461544                                    None   \n",
       "468220                         Ferrero,Nutella   \n",
       "468221                                 Nutella   \n",
       "\n",
       "                                               categories  \\\n",
       "942     Snacks, Sweet snacks, Biscuits and cakes, Bisc...   \n",
       "947     Plant-based foods and beverages,Plant-based fo...   \n",
       "950     Plant-based foods and beverages,Plant-based fo...   \n",
       "951     Plant-based foods and beverages, Plant-based f...   \n",
       "952     Plant-based foods and beverages, Plant-based f...   \n",
       "...                                                   ...   \n",
       "437030  de:haselnusscremes, de:brotaufstriche, en:fruh...   \n",
       "437031  de:nougatcremes, de:brotaufstriche, en:fruhstu...   \n",
       "461544  Snacks, Snacks sucrés, Biscuits et gâteaux, Pâ...   \n",
       "468220  Breakfasts, Spreads, Sweet spreads, fr:Pâtes à...   \n",
       "468221  Snacks, Breakfasts, Spreads, Sweet snacks, Swe...   \n",
       "\n",
       "                                          categories_tags checkers_tags  \\\n",
       "942     [en:snacks, en:sweet-snacks, en:biscuits-and-c...            []   \n",
       "947     [en:plant-based-foods-and-beverages, en:plant-...            []   \n",
       "950     [en:plant-based-foods-and-beverages, en:plant-...            []   \n",
       "951     [en:plant-based-foods-and-beverages, en:plant-...            []   \n",
       "952     [en:plant-based-foods-and-beverages, en:plant-...            []   \n",
       "...                                                   ...           ...   \n",
       "437030  [en:breakfasts, en:spreads, en:sweet-spreads, ...     [beniben]   \n",
       "437031  [en:breakfasts, en:spreads, en:sweet-spreads, ...            []   \n",
       "461544  [en:snacks, en:sweet-snacks, en:biscuits-and-c...            []   \n",
       "468220  [en:breakfasts, en:spreads, en:sweet-spreads, ...            []   \n",
       "468221  [en:snacks, en:breakfasts, en:spreads, en:swee...            []   \n",
       "\n",
       "                    ciqual_food_name_tags cities_tags  ... unique_scans_n  \\\n",
       "942                             [unknown]        None  ...            1.0   \n",
       "947                             [unknown]          []  ...            1.0   \n",
       "950                             [unknown]          []  ...            4.0   \n",
       "951     [chocolate-spread-with-hazelnuts]          []  ...            1.0   \n",
       "952                             [unknown]        None  ...           11.0   \n",
       "...                                   ...         ...  ...            ...   \n",
       "437030  [chocolate-spread-with-hazelnuts]          []  ...          326.0   \n",
       "437031                          [unknown]          []  ...          176.0   \n",
       "461544                          [unknown]        None  ...            1.0   \n",
       "468220  [chocolate-spread-with-hazelnuts]          []  ...           91.0   \n",
       "468221                          [unknown]          []  ...           10.0   \n",
       "\n",
       "       unknown_ingredients_n  unknown_nutrients_tags  vitamins_tags  \\\n",
       "942                      2.0                      []             []   \n",
       "947                      3.0                      []             []   \n",
       "950                      1.0                      []             []   \n",
       "951                      1.0                      []             []   \n",
       "952                      1.0                      []             []   \n",
       "...                      ...                     ...            ...   \n",
       "437030                   5.0                      []             []   \n",
       "437031                   0.0                      []             []   \n",
       "461544                   NaN                      []             []   \n",
       "468220                   0.0                      []             []   \n",
       "468221                   2.0                      []             []   \n",
       "\n",
       "       with_non_nutritive_sweeteners with_sweeteners  product_name_flat  \\\n",
       "942                              NaN             NaN               None   \n",
       "947                              NaN             NaN               None   \n",
       "950                              NaN             NaN               None   \n",
       "951                              NaN             NaN               None   \n",
       "952                              NaN             NaN               None   \n",
       "...                              ...             ...                ...   \n",
       "437030                           NaN             NaN               None   \n",
       "437031                           NaN             NaN               None   \n",
       "461544                           NaN             NaN               None   \n",
       "468220                           NaN             NaN               None   \n",
       "468221                           NaN             NaN               None   \n",
       "\n",
       "                                          categories_norm has_pate has_nutella  \n",
       "942     Snacks, Sweet snacks, Biscuits and cakes, Bisc...    False        True  \n",
       "947     Plant-based foods and beverages,Plant-based fo...    False        True  \n",
       "950     Plant-based foods and beverages,Plant-based fo...    False        True  \n",
       "951     Plant-based foods and beverages, Plant-based f...    False        True  \n",
       "952     Plant-based foods and beverages, Plant-based f...    False        True  \n",
       "...                                                   ...      ...         ...  \n",
       "437030  de:haselnusscremes, de:brotaufstriche, en:fruh...    False        True  \n",
       "437031  de:nougatcremes, de:brotaufstriche, en:fruhstu...    False        True  \n",
       "461544  Snacks, Snacks sucrés, Biscuits et gâteaux, Pâ...    False        True  \n",
       "468220  Breakfasts, Spreads, Sweet spreads, fr:Pâtes à...    False        True  \n",
       "468221  Snacks, Breakfasts, Spreads, Sweet snacks, Swe...    False        True  \n",
       "\n",
       "[68 rows x 113 columns]"
      ]
     },
     "execution_count": 62,
     "metadata": {},
     "output_type": "execute_result"
    }
   ],
   "source": [
    "open_food_df[open_food_df['has_nutella'] == True]"
   ]
  },
  {
   "cell_type": "markdown",
   "id": "a687eaf3",
   "metadata": {},
   "source": [
    "The dataset contains nested and complex structures that may require special handling."
   ]
  },
  {
   "cell_type": "markdown",
   "id": "07ef72c0",
   "metadata": {},
   "source": [
    "Considerantions:\n",
    "- Brands live in a free-text brands column but often as comma-separated lists with inconsistent formatting (“Ferrero, Ferrero U.S.A. Incorporated”), requiring multi-step cleaning and normalization.\n",
    "- product_name is a nested list of dicts (per‐language), stored as strings, which first must be parsed (e.g. with ast.literal_eval) and flattened.\n",
    "- The raw table has 109 columns. Even after flattening names, we still have to sift through lots of nutrition, packaging, and language-tag fields we won’t use.\n"
   ]
  },
  {
   "cell_type": "markdown",
   "id": "9798184c",
   "metadata": {},
   "source": [
    "Summary table:"
   ]
  },
  {
   "cell_type": "markdown",
   "id": "08d785de",
   "metadata": {},
   "source": [
    "| **Criterion**                  | **Status**                            | **Comment**                                                                                                                                 |\n",
    "| ------------------------------ | ------------------------------------- | ------------------------------------------------------------------------------------------------------------------------------------------- |\n",
    "| Dataset Size                   | ✅🟢 Large                             | \\~500 k sample rows (3.9 M total) — enough scale for robust modeling                                                                        |\n",
    "| Key Fields Present             | ✅🟢 product\\_name, brands, categories | \\~98 % non-missing for each after normalization                                                                                             |\n",
    "| Explicit Brand Column          | ✅🟢 Present                           | Clean `brands` field — no inference needed                                                                                                  |\n",
    "| Brand Extraction Effort        | ⚠️ Moderate                           | Requires parsing comma-separated `brands` lists and normalizing variants (e.g. “Nutella,Ferrero” vs “Ferrero, Ferrero U.S.A. Incorporated”) |\n",
    "| Category Hierarchy             | ❌🔴 Flat                              | \\~1 200 comma-delimited categories with no inherent structure — difficult to model hierarchy                                                |\n",
    "| Title Quality & Diversity      | ✅🟢 High                              | \\~485 k unique flattened product names — rich and varied                                                                                    |\n",
    "| Additional Metadata            | ⚠️ Extensive                          | 109 fields (nutriments, allergens, packaging, etc.) — valuable but beyond core four-day scope                                               |\n",
    "| Suitability for Category Model | ✅🟢 Strong                            | Clean categories, high coverage, ample variety                                                                                              |\n",
    "| Suitability for Brand Model    | ✅🟢 Strong                            | Direct `brands` column supports branding tasks; moderate cleaning needed                                                                    |\n"
   ]
  },
  {
   "cell_type": "markdown",
   "id": "15b8cd3c",
   "metadata": {},
   "source": [
    "Based on this analysis, the Kaggle dataset is the clear choice. While it requires minimal preprocessing (a simple regex or split operation to extract brands), it offers a significant advantage: a clean, two-column structure (name + categories) that streamlines our workflow. This allows us to dedicate all four days to model development, training, and API deployment—rather than wasting time on complex data engineering. The trade-off is well worth it: we sacrifice a perfectly clean brands column for a dataset that lets us focus on what truly matters—building and delivering a high-quality model."
   ]
  }
 ],
 "metadata": {
  "kernelspec": {
   "display_name": ".venv",
   "language": "python",
   "name": "python3"
  },
  "language_info": {
   "codemirror_mode": {
    "name": "ipython",
    "version": 3
   },
   "file_extension": ".py",
   "mimetype": "text/x-python",
   "name": "python",
   "nbconvert_exporter": "python",
   "pygments_lexer": "ipython3",
   "version": "3.12.3"
  }
 },
 "nbformat": 4,
 "nbformat_minor": 5
}
